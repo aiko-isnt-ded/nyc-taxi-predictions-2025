{
 "cells": [
  {
   "cell_type": "markdown",
   "id": "0eb59b6e",
   "metadata": {},
   "source": [
    "# <font color= #8FC3FA> **NYC Taxi Predictions 2025 - Initial Tracking** </font>"
   ]
  },
  {
   "cell_type": "code",
   "execution_count": 1,
   "id": "8d8b3eba",
   "metadata": {},
   "outputs": [],
   "source": [
    "# General Libraries\n",
    "import pandas as pd\n",
    "import pickle\n",
    "\n",
    "# Feature Engineering\n",
    "from sklearn.feature_extraction import DictVectorizer\n",
    "\n",
    "# Modeling\n",
    "import mlflow\n",
    "from sklearn.linear_model import Lasso\n",
    "from sklearn.ensemble import GradientBoostingRegressor, ExtraTreesRegressor, RandomForestRegressor\n",
    "from sklearn.svm import LinearSVR\n",
    "\n",
    "# Evaluation\n",
    "from sklearn.metrics import root_mean_squared_error\n",
    "\n",
    "# Autolog function\n",
    "mlflow.sklearn.autolog()"
   ]
  },
  {
   "cell_type": "markdown",
   "id": "9e2cca5a",
   "metadata": {},
   "source": [
    "# <font color= #8FC3FA> **1. Data Loading** </font>"
   ]
  },
  {
   "cell_type": "code",
   "execution_count": 2,
   "id": "4ef5a01e",
   "metadata": {},
   "outputs": [],
   "source": [
    "def read_dataframe(path):\n",
    "    df = pd.read_parquet(path)\n",
    "    df[\"duration\"] = (df.lpep_dropoff_datetime - df.lpep_pickup_datetime).dt.total_seconds() / 60\n",
    "    df = df[(df.duration >= 1) & (df.duration <= 60)]\n",
    "    df[[\"PULocationID\", \"DOLocationID\"]] = df[[\"PULocationID\", \"DOLocationID\"]].astype(str)\n",
    "    return df\n",
    "\n",
    "df_train = read_dataframe(\"../data/green_tripdata_2025-01.parquet\")\n",
    "df_val = read_dataframe(\"../data/green_tripdata_2025-02.parquet\")\n",
    "\n",
    "df_train[\"PU_DO\"] = df_train[\"PULocationID\"] + \"_\" + df_train[\"DOLocationID\"]\n",
    "df_val[\"PU_DO\"] = df_val[\"PULocationID\"] + \"_\" + df_val[\"DOLocationID\"]\n",
    "\n",
    "categorical = [\"PU_DO\"]\n",
    "numerical = [\"trip_distance\"]\n",
    "\n",
    "dv = DictVectorizer()\n",
    "X_train = dv.fit_transform(df_train[categorical + numerical].to_dict(orient=\"records\"))\n",
    "X_val = dv.transform(df_val[categorical + numerical].to_dict(orient=\"records\"))\n",
    "\n",
    "y_train = df_train[\"duration\"].values\n",
    "y_val = df_val[\"duration\"].values"
   ]
  },
  {
   "cell_type": "markdown",
   "id": "ef00ef3e",
   "metadata": {},
   "source": [
    "# <font color= #8FC3FA> **2. ML FLow** </font>"
   ]
  },
  {
   "cell_type": "markdown",
   "id": "a359b8ee",
   "metadata": {},
   "source": [
    "### **Activate MLFlow:**\n",
    "\n",
    "`uv run mlflow ui --backend-store-uri sqlite:///mlflow.db`"
   ]
  },
  {
   "cell_type": "markdown",
   "id": "36630787",
   "metadata": {},
   "source": [
    "## <font color= #8FC3FA> **• Lasso Model - Experiment 07/10** </font>"
   ]
  },
  {
   "cell_type": "markdown",
   "id": "0db6e70b",
   "metadata": {},
   "source": [
    "**Experiment:** Lasso Model - alpha: 0.1"
   ]
  },
  {
   "cell_type": "code",
   "execution_count": null,
   "id": "522afa62",
   "metadata": {},
   "outputs": [],
   "source": [
    "mlflow.set_tracking_uri(\"sqlite:///mlflow.db\")\n",
    "mlflow.set_experiment(\"class-nyc-taxi-experiment\")          # Experiment name\n",
    "\n",
    "with mlflow.start_run(run_name=\"lasso_alpha_0.1\"):\n",
    "    alpha = 0.1\n",
    "    mlflow.log_param(\"alpha\", alpha)\n",
    "\n",
    "    model = Lasso(alpha=alpha)\n",
    "    model.fit(X_train, y_train)\n",
    "\n",
    "    y_pred = model.predict(X_val)\n",
    "    rmse = root_mean_squared_error(y_val, y_pred)\n",
    "\n",
    "    mlflow.log_metric(\"rmse\", rmse)\n",
    "    mlflow.sklearn.log_model(model, \"model\")\n",
    "\n",
    "    print(f\"✅ Run finalizado. RMSE = {rmse:.4f}\")"
   ]
  },
  {
   "cell_type": "markdown",
   "id": "69c68f10",
   "metadata": {},
   "source": [
    "## <font color= #8FC3FA> **• GradientBoost, ExtraTreeRegressor & SVR - Experiment 14/10** </font>"
   ]
  },
  {
   "cell_type": "markdown",
   "id": "9ebdaf71",
   "metadata": {},
   "source": [
    "**Experiment Storage:** "
   ]
  },
  {
   "cell_type": "code",
   "execution_count": 3,
   "id": "b1738bbf",
   "metadata": {},
   "outputs": [
    {
     "name": "stderr",
     "output_type": "stream",
     "text": [
      "2025/10/16 20:32:27 INFO mlflow.store.db.utils: Creating initial MLflow database tables...\n",
      "2025/10/16 20:32:27 INFO mlflow.store.db.utils: Updating database tables\n",
      "INFO  [alembic.runtime.migration] Context impl SQLiteImpl.\n",
      "INFO  [alembic.runtime.migration] Will assume non-transactional DDL.\n",
      "INFO  [alembic.runtime.migration] Context impl SQLiteImpl.\n",
      "INFO  [alembic.runtime.migration] Will assume non-transactional DDL.\n"
     ]
    },
    {
     "data": {
      "text/plain": [
       "<Experiment: artifact_location='file:c:/Users/Vivienne/apps/data_science_project/nyc-taxi-predictions-2025/notebooks/mlruns/2', creation_time=1760498545784, experiment_id='2', last_update_time=1760498545784, lifecycle_stage='active', name='class-nyc-taxi-model-registry-example', tags={'mlflow.experimentKind': 'custom_model_development'}>"
      ]
     },
     "execution_count": 3,
     "metadata": {},
     "output_type": "execute_result"
    }
   ],
   "source": [
    "mlflow.set_tracking_uri(\"sqlite:///mlflow.db\")\n",
    "mlflow.set_experiment(\"class-nyc-taxi-model-registry-example\")          # Experiment name"
   ]
  },
  {
   "cell_type": "code",
   "execution_count": 4,
   "id": "73216c46",
   "metadata": {},
   "outputs": [],
   "source": [
    "training_dataset = mlflow.data.from_numpy(X_train.data, targets=y_train, name=\"green_tripdata_2025-01\")\n",
    "validation_dataset = mlflow.data.from_numpy(X_val.data, targets=y_val, name=\"green_tripdata_2025-02\")"
   ]
  },
  {
   "cell_type": "markdown",
   "id": "5264cf47",
   "metadata": {},
   "source": [
    "Models to Run:"
   ]
  },
  {
   "cell_type": "code",
   "execution_count": 7,
   "id": "0b581f81",
   "metadata": {},
   "outputs": [],
   "source": [
    "models = [\n",
    "    \n",
    "    {\"model\": GradientBoostingRegressor,\n",
    "     \"params\": {\"n_estimators\": 100, \"learning_rate\": 0.3, \"max_depth\": 25, \"random_state\": 42},\n",
    "     },\n",
    "    \n",
    "    {\"model\": ExtraTreesRegressor,\n",
    "     \"params\": {\"n_estimators\": 100, \"max_depth\": 15, \"random_state\": 42},\n",
    "     },\n",
    "    \n",
    "    {\"model\": LinearSVR,\n",
    "     \"params\": {\"C\": 1.0, \"epsilon\": 0}, \n",
    "     },\n",
    "\n",
    "]"
   ]
  },
  {
   "cell_type": "code",
   "execution_count": 11,
   "id": "2567bce4",
   "metadata": {},
   "outputs": [
    {
     "name": "stderr",
     "output_type": "stream",
     "text": [
      "2025/10/14 21:31:58 WARNING mlflow.utils.environment: Failed to resolve installed pip version. ``pip`` will be added to conda.yaml environment spec without a version specifier.\n",
      "2025/10/14 21:32:15 WARNING mlflow.utils.environment: Failed to resolve installed pip version. ``pip`` will be added to conda.yaml environment spec without a version specifier.\n",
      "c:\\Users\\Vivienne\\apps\\data_science_project\\nyc-taxi-predictions-2025\\.venv\\Lib\\site-packages\\sklearn\\svm\\_base.py:1250: ConvergenceWarning: Liblinear failed to converge, increase the number of iterations.\n",
      "  warnings.warn(\n",
      "2025/10/14 21:32:22 WARNING mlflow.utils.environment: Failed to resolve installed pip version. ``pip`` will be added to conda.yaml environment spec without a version specifier.\n"
     ]
    }
   ],
   "source": [
    "with mlflow.start_run(run_name=\"Nested Runs\"):\n",
    "    for model in models:\n",
    "        \n",
    "        model_class = model[\"model\"]            # Select the model\n",
    "        model_name = model_class.__name__       # Extract Model Name\n",
    "        params = model[\"params\"]                # Apply the params of the model defined in the model list\n",
    "        \n",
    "        with mlflow.start_run(run_name=model_name,nested=True):         # Nests all the models\n",
    "            \n",
    "            ml_model = model_class(**params)    # Unzips the params and applies it to the models\n",
    "           \n",
    "            ml_model.fit(X_train, y_train)      # Fitting\n",
    "    \n",
    "            y_pred = ml_model.predict(X_val)    # Prediction\n",
    "            \n",
    "            rmse = root_mean_squared_error(y_val, y_pred)\n",
    "            mlflow.log_metric(\"rmse\", rmse)\n",
    "            \n",
    "            # !mkdir models\n",
    "            with open(\"models/preprocessor.b\", \"wb\") as f_out:\n",
    "                pickle.dump(dv, f_out)\n",
    "                \n",
    "            mlflow.log_artifact(\"models/preprocessor.b\", artifact_path=\"preprocessor\")"
   ]
  },
  {
   "cell_type": "markdown",
   "id": "c72c9cbf",
   "metadata": {},
   "source": [
    "## <font color= #8FC3FA> **• Random Forest Regressor - Experiment 14/10** </font>"
   ]
  },
  {
   "cell_type": "code",
   "execution_count": 13,
   "id": "6c651f6d",
   "metadata": {},
   "outputs": [
    {
     "name": "stderr",
     "output_type": "stream",
     "text": [
      "2025/10/14 21:46:55 WARNING mlflow.utils.environment: Failed to resolve installed pip version. ``pip`` will be added to conda.yaml environment spec without a version specifier.\n",
      "2025/10/14 21:46:57 WARNING mlflow.models.model: `artifact_path` is deprecated. Please use `name` instead.\n",
      "2025/10/14 21:46:57 WARNING mlflow.sklearn: Model was missing function: predict. Not logging python_function flavor!\n",
      "2025/10/14 21:47:01 WARNING mlflow.utils.environment: Failed to resolve installed pip version. ``pip`` will be added to conda.yaml environment spec without a version specifier.\n",
      "2025/10/14 21:47:01 WARNING mlflow.models.model: Model logged without a signature and input example. Please set `input_example` parameter when logging the model to auto infer the model signature.\n",
      "2025/10/14 21:47:01 INFO mlflow.store.db.utils: Creating initial MLflow database tables...\n",
      "2025/10/14 21:47:01 INFO mlflow.store.db.utils: Updating database tables\n",
      "INFO  [alembic.runtime.migration] Context impl SQLiteImpl.\n",
      "INFO  [alembic.runtime.migration] Will assume non-transactional DDL.\n",
      "Registered model 'nyc-taxi-model' already exists. Creating a new version of this model...\n",
      "Created version '2' of model 'nyc-taxi-model'.\n"
     ]
    }
   ],
   "source": [
    "with mlflow.start_run(run_name=\"RandomForestRegressor\"):\n",
    "    ml_model = RandomForestRegressor(\n",
    "        n_estimators=100,\n",
    "        max_depth=15,\n",
    "        random_state=42\n",
    "    )\n",
    "    \n",
    "    ml_model.fit(X_train, y_train)\n",
    "    \n",
    "    mlflow.sklearn.log_model(\n",
    "        sk_model=model, \n",
    "        artifact_path=\"model\",\n",
    "        registered_model_name=\"nyc-taxi-model\"      # This will append the new experiment to the already created experiment\n",
    "    )\n",
    "    \n",
    "    y_pred = ml_model.predict(X_val)\n",
    "    \n",
    "    rmse = root_mean_squared_error(y_val, y_pred)\n",
    "    mlflow.log_metric(\"rmse\", rmse)\n",
    "    \n",
    "    # !mkdir models\n",
    "    with open(\"models/preprocessor.b\", \"wb\") as f_out:\n",
    "        pickle.dump(dv, f_out)\n",
    "        \n",
    "    mlflow.log_artifact(\"models/preprocessor.b\", artifact_path=\"preprocessor\")"
   ]
  },
  {
   "cell_type": "markdown",
   "id": "e3d986b5",
   "metadata": {},
   "source": [
    "## Método 2 para registrar modelos"
   ]
  },
  {
   "cell_type": "code",
   "execution_count": 15,
   "id": "9ed7e085",
   "metadata": {},
   "outputs": [
    {
     "name": "stderr",
     "output_type": "stream",
     "text": [
      "Registered model 'nyc-taxi-model' already exists. Creating a new version of this model...\n",
      "2025/10/14 21:49:29 WARNING mlflow.tracking._model_registry.fluent: Run with id 789b551243f844af8591e4e54d09d35e has no artifacts at artifact path 'model', registering model based on models:/m-c2468579c45049a9be91efc0d1f1e22b instead\n",
      "Created version '3' of model 'nyc-taxi-model'.\n"
     ]
    }
   ],
   "source": [
    "run_id = input(\"Ingrese el run_id\")\n",
    "run_uri = f\"runs:/{run_id}/model\"\n",
    "\n",
    "result = mlflow.register_model(\n",
    "    model_uri=run_uri,\n",
    "    name=\"nyc-taxi-model\"\n",
    ")"
   ]
  },
  {
   "cell_type": "markdown",
   "id": "f75cb3df",
   "metadata": {},
   "source": [
    "## Método 3 para registrar modelos - MLFlow Client"
   ]
  },
  {
   "cell_type": "code",
   "execution_count": 6,
   "id": "537f6aac",
   "metadata": {},
   "outputs": [],
   "source": [
    "from mlflow import MlflowClient\n",
    "\n",
    "client = MlflowClient(tracking_uri=\"sqlite:///mlflow.db\")"
   ]
  },
  {
   "cell_type": "code",
   "execution_count": null,
   "id": "d157c6b9",
   "metadata": {},
   "outputs": [],
   "source": [
    "run_id = input(\"Ingrese el run_id\")\n",
    "\n",
    "client.download_artifacts(\n",
    "    run_id=run_id, \n",
    "    path='preprocessor', \n",
    "    dst_path='.'\n",
    ")"
   ]
  },
  {
   "cell_type": "markdown",
   "id": "616c0746",
   "metadata": {},
   "source": [
    "# <font color= #8FC3FA> **3. Modify Elements in MLFlow** </font>"
   ]
  },
  {
   "cell_type": "markdown",
   "id": "ec16be1e",
   "metadata": {},
   "source": [
    "## Set an Alias"
   ]
  },
  {
   "cell_type": "code",
   "execution_count": null,
   "id": "6eb18add",
   "metadata": {},
   "outputs": [],
   "source": [
    "# 'Challenger' Allias to Version 3\n",
    "client.set_registered_model_alias(\n",
    "    name=\"nyc-taxi-model\", \n",
    "    alias=\"challenger\",\n",
    "    version=3\n",
    ")"
   ]
  },
  {
   "cell_type": "markdown",
   "id": "ad0457b1",
   "metadata": {},
   "source": [
    "## Add Description"
   ]
  },
  {
   "cell_type": "code",
   "execution_count": 9,
   "id": "2ebe73e2",
   "metadata": {},
   "outputs": [
    {
     "data": {
      "text/plain": [
       "<ModelVersion: aliases=['challenger'], creation_timestamp=1760500169215, current_stage='None', deployment_job_state=None, description=('This model version is a scikit-learn random forest containing 100 decision '\n",
       " 'trees'), last_updated_timestamp=1760669320659, metrics=None, model_id=None, name='nyc-taxi-model', params=None, run_id='789b551243f844af8591e4e54d09d35e', run_link=None, source='models:/m-c2468579c45049a9be91efc0d1f1e22b', status='READY', status_message=None, tags={}, user_id=None, version=3>"
      ]
     },
     "execution_count": 9,
     "metadata": {},
     "output_type": "execute_result"
    }
   ],
   "source": [
    "client.update_model_version(\n",
    "    name=\"nyc-taxi-model\",\n",
    "    version=3,\n",
    "    description=\"This model version is a scikit-learn random forest containing 100 decision trees\",\n",
    ")"
   ]
  },
  {
   "cell_type": "markdown",
   "id": "96ce1ad1",
   "metadata": {},
   "source": [
    "## Delete Model"
   ]
  }
 ],
 "metadata": {
  "kernelspec": {
   "display_name": "nyc-taxi-predictions-2025",
   "language": "python",
   "name": "python3"
  },
  "language_info": {
   "codemirror_mode": {
    "name": "ipython",
    "version": 3
   },
   "file_extension": ".py",
   "mimetype": "text/x-python",
   "name": "python",
   "nbconvert_exporter": "python",
   "pygments_lexer": "ipython3",
   "version": "3.12.11"
  }
 },
 "nbformat": 4,
 "nbformat_minor": 5
}
