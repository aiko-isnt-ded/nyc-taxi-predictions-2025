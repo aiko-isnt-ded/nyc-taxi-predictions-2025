{
 "cells": [
  {
   "cell_type": "markdown",
   "id": "b43603da",
   "metadata": {},
   "source": [
    "___\n",
    "\n",
    "\n",
    "# <font color= #8FC3FA> **NYC Taxi Predictions 2025 - Model Experiments 2** </font>\n",
    "#### <font color= #2E9AFE> `Data Science Project - Homework 5`</font>\n",
    "- <Strong> Viviana Toledo </Strong>\n",
    "- <Strong> Fecha: </Strong> 28/10/2025\n",
    "\n",
    "___"
   ]
  },
  {
   "cell_type": "code",
   "execution_count": 1,
   "id": "31a36f85",
   "metadata": {},
   "outputs": [],
   "source": [
    "# General Libraries\n",
    "import pandas as pd\n",
    "from datetime import datetime\n",
    "\n",
    "# Databricks Env\n",
    "from dotenv import load_dotenv\n",
    "import pickle\n",
    "import pathlib\n",
    "\n",
    "# Feature Engineering\n",
    "from sklearn.feature_extraction import DictVectorizer\n",
    "\n",
    "# Optimization\n",
    "import math\n",
    "import optuna\n",
    "\n",
    "# Modeling\n",
    "import mlflow\n",
    "import xgboost as xgb\n",
    "import mlflow.pyfunc\n",
    "from optuna.samplers import TPESampler\n",
    "from mlflow.models.signature import infer_signature\n",
    "from mlflow import MlflowClient\n",
    "\n",
    "# Evaluation\n",
    "from sklearn.metrics import root_mean_squared_error\n",
    "\n",
    "# Autolog function\n",
    "mlflow.sklearn.autolog()"
   ]
  },
  {
   "cell_type": "markdown",
   "id": "886ee042",
   "metadata": {},
   "source": [
    "# <font color= #8FC3FA> **1. Data Loading** </font>"
   ]
  },
  {
   "cell_type": "markdown",
   "id": "89d6b07e",
   "metadata": {},
   "source": [
    "First of all, we'll start by loading the data:"
   ]
  },
  {
   "cell_type": "code",
   "execution_count": 2,
   "id": "9a6c24d9",
   "metadata": {},
   "outputs": [],
   "source": [
    "def read_dataframe(path):\n",
    "    df = pd.read_parquet(path)\n",
    "    df[\"duration\"] = (df.lpep_dropoff_datetime - df.lpep_pickup_datetime).dt.total_seconds() / 60\n",
    "    df = df[(df.duration >= 1) & (df.duration <= 60)]\n",
    "    df[[\"PULocationID\", \"DOLocationID\"]] = df[[\"PULocationID\", \"DOLocationID\"]].astype(str)\n",
    "    return df\n",
    "\n",
    "df_train = read_dataframe(\"../data/green_tripdata_2025-01.parquet\")\n",
    "df_val = read_dataframe(\"../data/green_tripdata_2025-02.parquet\")\n",
    "\n",
    "df_train[\"PU_DO\"] = df_train[\"PULocationID\"] + \"_\" + df_train[\"DOLocationID\"]\n",
    "df_val[\"PU_DO\"] = df_val[\"PULocationID\"] + \"_\" + df_val[\"DOLocationID\"]\n",
    "\n",
    "categorical = [\"PU_DO\"]\n",
    "numerical = [\"trip_distance\"]\n",
    "\n",
    "dv = DictVectorizer()\n",
    "X_train = dv.fit_transform(df_train[categorical + numerical].to_dict(orient=\"records\"))\n",
    "X_val = dv.transform(df_val[categorical + numerical].to_dict(orient=\"records\"))\n",
    "\n",
    "y_train = df_train[\"duration\"].values\n",
    "y_val = df_val[\"duration\"].values"
   ]
  },
  {
   "cell_type": "markdown",
   "id": "e9f7e7df",
   "metadata": {},
   "source": [
    "The data is stored in .parquet files. Our function defined above helps us handle these types of data."
   ]
  },
  {
   "cell_type": "code",
   "execution_count": 3,
   "id": "1ab3e89d",
   "metadata": {},
   "outputs": [],
   "source": [
    "df_train = read_dataframe('../data/green_tripdata_2025-01.parquet')\n",
    "df_val = read_dataframe('../data/green_tripdata_2025-02.parquet')"
   ]
  },
  {
   "cell_type": "markdown",
   "id": "2c15dc53",
   "metadata": {},
   "source": [
    "# <font color= #8FC3FA> **2. Feature Engineering** </font>"
   ]
  },
  {
   "cell_type": "markdown",
   "id": "b40a5517",
   "metadata": {},
   "source": [
    "Afterwards, we will proceed to apply feature engineering, which includes dividing features by categorical and numerical types:"
   ]
  },
  {
   "cell_type": "code",
   "execution_count": 4,
   "id": "64c587d9",
   "metadata": {},
   "outputs": [],
   "source": [
    "def preprocess(df, dv):\n",
    "    df['PU_DO'] = df['PULocationID'] + '_' + df['DOLocationID']\n",
    "    categorical = ['PU_DO']\n",
    "    numerical = ['trip_distance']\n",
    "    train_dicts = df[categorical + numerical].to_dict(orient='records')\n",
    "    return dv.transform(train_dicts)"
   ]
  },
  {
   "cell_type": "code",
   "execution_count": null,
   "id": "085ae985",
   "metadata": {},
   "outputs": [],
   "source": [
    "# Define categorical and numerical values in our data\n",
    "categorical = ['PULocationID', 'DOLocationID']\n",
    "numerical = ['trip_distance']\n",
    "\n",
    "# Dictionaries for preprocessing\n",
    "dv = DictVectorizer()\n",
    "train_dicts = df_train[categorical + numerical].to_dict(orient='records')\n",
    "\n",
    "# Train and Evaluation\n",
    "X_train = dv.fit_transform(train_dicts)\n",
    "X_val = preprocess(df_val, dv)\n",
    "\n",
    "# Define targets\n",
    "target = 'duration'\n",
    "y_train = df_train[target].values\n",
    "y_val = df_val[target].values"
   ]
  },
  {
   "cell_type": "markdown",
   "id": "45d7775d",
   "metadata": {},
   "source": [
    "Finally, we have our training and evaluation datasets:"
   ]
  },
  {
   "cell_type": "code",
   "execution_count": 6,
   "id": "bc4f0132",
   "metadata": {},
   "outputs": [],
   "source": [
    "training_dataset = mlflow.data.from_numpy(X_train.data, targets=y_train, name=\"green_tripdata_2025-01\")\n",
    "validation_dataset = mlflow.data.from_numpy(X_val.data, targets=y_val, name=\"green_tripdata_2025-02\")"
   ]
  },
  {
   "cell_type": "markdown",
   "id": "7e647a49",
   "metadata": {},
   "source": [
    "# <font color= #8FC3FA> **3. Hyperparameters Optimization** </font>"
   ]
  }
 ],
 "metadata": {
  "kernelspec": {
   "display_name": "nyc-taxi-predictions-2025",
   "language": "python",
   "name": "python3"
  },
  "language_info": {
   "codemirror_mode": {
    "name": "ipython",
    "version": 3
   },
   "file_extension": ".py",
   "mimetype": "text/x-python",
   "name": "python",
   "nbconvert_exporter": "python",
   "pygments_lexer": "ipython3",
   "version": "3.12.11"
  }
 },
 "nbformat": 4,
 "nbformat_minor": 5
}
