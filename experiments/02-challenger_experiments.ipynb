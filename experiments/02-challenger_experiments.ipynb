{
 "cells": [
  {
   "cell_type": "markdown",
   "id": "b43603da",
   "metadata": {},
   "source": [
    "___\n",
    "\n",
    "\n",
    "# <font color= #8FC3FA> **NYC Taxi Predictions 2025 - Model Experiments 2** </font>\n",
    "#### <font color= #2E9AFE> `Data Science Project - Homework 5`</font>\n",
    "- <Strong> Viviana Toledo </Strong>\n",
    "- <Strong> Fecha: </Strong> 28/10/2025\n",
    "\n",
    "___"
   ]
  },
  {
   "cell_type": "code",
   "execution_count": 20,
   "id": "31a36f85",
   "metadata": {},
   "outputs": [],
   "source": [
    "# General Libraries\n",
    "import pandas as pd\n",
    "from datetime import datetime\n",
    "\n",
    "# Databricks Env\n",
    "from dotenv import load_dotenv\n",
    "import pickle\n",
    "import pathlib\n",
    "\n",
    "# Feature Engineering\n",
    "from sklearn.feature_extraction import DictVectorizer\n",
    "\n",
    "# Optimization\n",
    "import math\n",
    "import optuna\n",
    "from optuna.samplers import TPESampler\n",
    "\n",
    "# Modeling\n",
    "from sklearn.ensemble import RandomForestRegressor, GradientBoostingRegressor\n",
    "\n",
    "# MLFlow\n",
    "import mlflow\n",
    "import mlflow.pyfunc\n",
    "import mlflow.sklearn\n",
    "from mlflow.models.signature import infer_signature\n",
    "from mlflow import MlflowClient\n",
    "\n",
    "# Evaluation\n",
    "from sklearn.metrics import root_mean_squared_error\n",
    "\n",
    "# Autolog function\n",
    "mlflow.sklearn.autolog()"
   ]
  },
  {
   "cell_type": "code",
   "execution_count": 21,
   "id": "986894f5",
   "metadata": {},
   "outputs": [],
   "source": [
    "load_dotenv(override=True)  # Carga las variables del archivo .env\n",
    "EXPERIMENT_NAME = \"/Users/viviana.toledo@iteso.mx/nyc-taxi-experiments\"\n",
    "\n",
    "mlflow.set_tracking_uri(\"databricks\")\n",
    "experiment = mlflow.set_experiment(experiment_name=EXPERIMENT_NAME)"
   ]
  },
  {
   "cell_type": "markdown",
   "id": "886ee042",
   "metadata": {},
   "source": [
    "# <font color= #8FC3FA> **1. Data Loading** </font>"
   ]
  },
  {
   "cell_type": "markdown",
   "id": "89d6b07e",
   "metadata": {},
   "source": [
    "First of all, we'll start by loading the data:"
   ]
  },
  {
   "cell_type": "code",
   "execution_count": 29,
   "id": "9a6c24d9",
   "metadata": {},
   "outputs": [],
   "source": [
    "def read_dataframe(path):\n",
    "    df = pd.read_parquet(path)\n",
    "    df[\"duration\"] = (df.lpep_dropoff_datetime - df.lpep_pickup_datetime).dt.total_seconds() / 60\n",
    "    df = df[(df.duration >= 1) & (df.duration <= 60)]\n",
    "    df[[\"PULocationID\", \"DOLocationID\"]] = df[[\"PULocationID\", \"DOLocationID\"]].astype(str)\n",
    "    return df"
   ]
  },
  {
   "cell_type": "markdown",
   "id": "e9f7e7df",
   "metadata": {},
   "source": [
    "The data is stored in .parquet files. Our function defined above helps us handle these types of data."
   ]
  },
  {
   "cell_type": "code",
   "execution_count": 30,
   "id": "1ab3e89d",
   "metadata": {},
   "outputs": [],
   "source": [
    "df_train = read_dataframe('../data/green_tripdata_2025-01.parquet')\n",
    "df_val = read_dataframe('../data/green_tripdata_2025-02.parquet')"
   ]
  },
  {
   "cell_type": "markdown",
   "id": "538ad099",
   "metadata": {},
   "source": [
    "For modeling, we create a new variable composed of two variables in the dataset:"
   ]
  },
  {
   "cell_type": "code",
   "execution_count": 31,
   "id": "f99abf20",
   "metadata": {},
   "outputs": [],
   "source": [
    "df_train[\"PU_DO\"] = df_train[\"PULocationID\"] + \"_\" + df_train[\"DOLocationID\"]\n",
    "df_val[\"PU_DO\"] = df_val[\"PULocationID\"] + \"_\" + df_val[\"DOLocationID\"]"
   ]
  },
  {
   "cell_type": "markdown",
   "id": "2c15dc53",
   "metadata": {},
   "source": [
    "# <font color= #8FC3FA> **2. Feature Engineering** </font>"
   ]
  },
  {
   "cell_type": "markdown",
   "id": "b40a5517",
   "metadata": {},
   "source": [
    "Afterwards, we will proceed to apply feature engineering, which includes dividing features by categorical and numerical types:"
   ]
  },
  {
   "cell_type": "code",
   "execution_count": 32,
   "id": "64c587d9",
   "metadata": {},
   "outputs": [],
   "source": [
    "def preprocess(df, dv):\n",
    "    df['PU_DO'] = df['PULocationID'] + '_' + df['DOLocationID']\n",
    "    categorical = ['PU_DO']\n",
    "    numerical = ['trip_distance']\n",
    "    train_dicts = df[categorical + numerical].to_dict(orient='records')\n",
    "    return dv.transform(train_dicts)"
   ]
  },
  {
   "cell_type": "code",
   "execution_count": 33,
   "id": "085ae985",
   "metadata": {},
   "outputs": [],
   "source": [
    "# Dictionaries for preprocessing\n",
    "dv = DictVectorizer()\n",
    "\n",
    "# Define categorical and numerical variables\n",
    "categorical = ['PU_DO']\n",
    "numerical = ['trip_distance']\n",
    "\n",
    "# Fit DictVectorizer on training data\n",
    "train_dicts = df_train[categorical + numerical].to_dict(orient='records')\n",
    "X_train = dv.fit_transform(train_dicts)\n",
    "\n",
    "# Validation\n",
    "X_val = preprocess(df_val, dv)"
   ]
  },
  {
   "cell_type": "markdown",
   "id": "36a10f63",
   "metadata": {},
   "source": [
    "And our target variables:"
   ]
  },
  {
   "cell_type": "code",
   "execution_count": 34,
   "id": "76a2b703",
   "metadata": {},
   "outputs": [],
   "source": [
    "target = 'duration'\n",
    "y_train = df_train[target].values\n",
    "y_val = df_val[target].values"
   ]
  },
  {
   "cell_type": "markdown",
   "id": "2ac346b2",
   "metadata": {},
   "source": [
    "Upload the datasets to mlflow:"
   ]
  },
  {
   "cell_type": "code",
   "execution_count": 35,
   "id": "51907543",
   "metadata": {},
   "outputs": [],
   "source": [
    "training_dataset = mlflow.data.from_numpy(X_train.data, targets=y_train, name=\"green_tripdata_2025-01\")\n",
    "validation_dataset = mlflow.data.from_numpy(X_val.data, targets=y_val, name=\"green_tripdata_2025-02\")"
   ]
  },
  {
   "cell_type": "markdown",
   "id": "7e647a49",
   "metadata": {},
   "source": [
    "# <font color= #8FC3FA> **3. Modeling** </font>"
   ]
  },
  {
   "cell_type": "markdown",
   "id": "61852e33",
   "metadata": {},
   "source": [
    "## <font color= #8FC3FA> &ensp; • **Random Forest** </font>"
   ]
  },
  {
   "cell_type": "markdown",
   "id": "5de6abcb",
   "metadata": {},
   "source": [
    "We're going to perform a hyperparameter search for our Random Forest Regressor Model using Optuna. Firstly, we have to define the target function:"
   ]
  },
  {
   "cell_type": "code",
   "execution_count": 38,
   "id": "eac843d5",
   "metadata": {},
   "outputs": [],
   "source": [
    "# ------------------------------------------------------------\n",
    "# Definir la función objetivo para Optuna\n",
    "#    - Recibe un `trial`, que se usa para proponer hiperparámetros.\n",
    "#    - Entrena un modelo con esos hiperparámetros.\n",
    "#    - Calcula la métrica de validación (RMSE) y la retorna (Optuna la minimizará).\n",
    "#    - Abrimos un run anidado de MLflow para registrar cada trial.\n",
    "# ------------------------------------------------------------\n",
    "\n",
    "def objective(trial: optuna.trial.Trial):\n",
    "    # Hiperparámetros MUESTREADOS por Optuna en CADA trial.\n",
    "    # Nota: usamos log=True para emular rangos log-uniformes (similar a loguniform).\n",
    "    params = {\n",
    "        \"n_estimators\": trial.suggest_int(\"n_estimators\", 4, 100),\n",
    "        \"max_depth\": trial.suggest_int(\"max_depth\", 4, 100),\n",
    "        \"min_samples_split\": trial.suggest_int(\"min_samples_split\", 4, 100),\n",
    "        \"min_samples_leaf\": trial.suggest_int(\"min_samples_leaf\", 4, 100),\n",
    "        \"min_weight_fraction_leaf\": trial.suggest_float(\"min_weight_fraction_leaf\", math.exp(-3), math.exp(-1), log=True),\n",
    "        \"max_features\": trial.suggest_int(\"max_features\", 4, 100),\n",
    "        \"ccp_alpha\": trial.suggest_float(\"ccp_alpha\",   math.exp(-3), math.exp(-3), log=True),\n",
    "        \"random_state\": 42,                      \n",
    "    }\n",
    "\n",
    "    # Run anidado para dejar rastro de cada trial en MLflow\n",
    "    with mlflow.start_run(nested=True):\n",
    "        mlflow.set_tag(\"model_family\", \"randomforest\")  # etiqueta informativa\n",
    "        mlflow.log_params(params)                  # registra hiperparámetros del trial\n",
    "\n",
    "        # Entrenamiento con el conjunto de validación\n",
    "        rf = RandomForestRegressor(**params)\n",
    "        rf.fit(X_train, y_train)\n",
    "\n",
    "        # Predicción y métrica en validación\n",
    "        y_pred = rf.predict(X_val)\n",
    "        rmse = root_mean_squared_error(y_val, y_pred)\n",
    "\n",
    "        # Registrar la métrica principal\n",
    "        mlflow.log_metric(\"rmse\", rmse)\n",
    "\n",
    "        # La \"signature\" describe la estructura esperada de entrada y salida del modelo:\n",
    "        # incluye los nombres, tipos y forma (shape) de las variables de entrada y el tipo de salida.\n",
    "        # MLflow la usa para validar datos en inferencia y documentar el modelo en el Model Registry.\n",
    "        signature = infer_signature(X_val, y_pred)\n",
    "\n",
    "        # Guardar el modelo del trial como artefacto en MLflow.\n",
    "        mlflow.sklearn.log_model(\n",
    "            sk_model = rf,\n",
    "            name=\"model\",\n",
    "            input_example=X_val[:5],\n",
    "            signature=signature,\n",
    "        )\n",
    "\n",
    "    # Optuna minimiza el valor retornado\n",
    "    return rmse"
   ]
  },
  {
   "cell_type": "markdown",
   "id": "5b45954c",
   "metadata": {},
   "source": [
    "Now, we can execute the search and log the models into MLFlow:"
   ]
  },
  {
   "cell_type": "code",
   "execution_count": 39,
   "id": "a83869b9",
   "metadata": {},
   "outputs": [
    {
     "name": "stderr",
     "output_type": "stream",
     "text": [
      "[I 2025-10-23 21:39:04,957] A new study created in memory with name: no-name-42889371-c6b2-4cfa-809e-38de79171c79\n",
      "2025/10/23 21:39:19 WARNING mlflow.utils.environment: Failed to resolve installed pip version. ``pip`` will be added to conda.yaml environment spec without a version specifier.\n"
     ]
    },
    {
     "data": {
      "application/vnd.jupyter.widget-view+json": {
       "model_id": "e82664c24e58450dbcc8cc8d6128eac5",
       "version_major": 2,
       "version_minor": 0
      },
      "text/plain": [
       "Downloading artifacts:   0%|          | 0/7 [00:00<?, ?it/s]"
      ]
     },
     "metadata": {},
     "output_type": "display_data"
    },
    {
     "name": "stderr",
     "output_type": "stream",
     "text": [
      "2025/10/23 21:39:19 INFO mlflow.models.model: Found the following environment variables used during model inference: [DATABRICKS_HOST, DATABRICKS_TOKEN]. Please check if you need to set them when deploying the model. To disable this message, set environment variable `MLFLOW_RECORD_ENV_VARS_IN_MODEL_LOGGING` to `false`.\n"
     ]
    },
    {
     "name": "stdout",
     "output_type": "stream",
     "text": [
      "🏃 View run stylish-carp-81 at: https://dbc-ce601eea-1bde.cloud.databricks.com/ml/experiments/2243674360324792/runs/b8475a0ae92f4d5396ba3bc3d6eb35c0\n",
      "🧪 View experiment at: https://dbc-ce601eea-1bde.cloud.databricks.com/ml/experiments/2243674360324792\n"
     ]
    },
    {
     "name": "stderr",
     "output_type": "stream",
     "text": [
      "[I 2025-10-23 21:39:22,342] Trial 0 finished with value: 9.106328108013187 and parameters: {'n_estimators': 40, 'max_depth': 96, 'min_samples_split': 75, 'min_samples_leaf': 62, 'min_weight_fraction_leaf': 0.06801937287807802, 'max_features': 19, 'ccp_alpha': 0.049787068367863944}. Best is trial 0 with value: 9.106328108013187.\n",
      "2025/10/23 21:39:35 WARNING mlflow.utils.environment: Failed to resolve installed pip version. ``pip`` will be added to conda.yaml environment spec without a version specifier.\n"
     ]
    },
    {
     "data": {
      "application/vnd.jupyter.widget-view+json": {
       "model_id": "1b3c77304c204c8cb8c058386bdd6030",
       "version_major": 2,
       "version_minor": 0
      },
      "text/plain": [
       "Downloading artifacts:   0%|          | 0/7 [00:00<?, ?it/s]"
      ]
     },
     "metadata": {},
     "output_type": "display_data"
    },
    {
     "name": "stderr",
     "output_type": "stream",
     "text": [
      "2025/10/23 21:39:35 INFO mlflow.models.model: Found the following environment variables used during model inference: [DATABRICKS_HOST, DATABRICKS_TOKEN]. Please check if you need to set them when deploying the model. To disable this message, set environment variable `MLFLOW_RECORD_ENV_VARS_IN_MODEL_LOGGING` to `false`.\n"
     ]
    },
    {
     "name": "stdout",
     "output_type": "stream",
     "text": [
      "🏃 View run adaptable-shad-846 at: https://dbc-ce601eea-1bde.cloud.databricks.com/ml/experiments/2243674360324792/runs/b41b44a13aed4d8d9ed84a1ec35251c7\n",
      "🧪 View experiment at: https://dbc-ce601eea-1bde.cloud.databricks.com/ml/experiments/2243674360324792\n"
     ]
    },
    {
     "name": "stderr",
     "output_type": "stream",
     "text": [
      "[I 2025-10-23 21:39:38,418] Trial 1 finished with value: 9.106538009664877 and parameters: {'n_estimators': 9, 'max_depth': 88, 'min_samples_split': 62, 'min_samples_leaf': 72, 'min_weight_fraction_leaf': 0.05187952831569513, 'max_features': 98, 'ccp_alpha': 0.049787068367863944}. Best is trial 0 with value: 9.106328108013187.\n",
      "2025/10/23 21:39:51 WARNING mlflow.utils.environment: Failed to resolve installed pip version. ``pip`` will be added to conda.yaml environment spec without a version specifier.\n"
     ]
    },
    {
     "data": {
      "application/vnd.jupyter.widget-view+json": {
       "model_id": "0bf328dcd95e4d5891628fd4d95a8e44",
       "version_major": 2,
       "version_minor": 0
      },
      "text/plain": [
       "Downloading artifacts:   0%|          | 0/7 [00:00<?, ?it/s]"
      ]
     },
     "metadata": {},
     "output_type": "display_data"
    },
    {
     "name": "stderr",
     "output_type": "stream",
     "text": [
      "2025/10/23 21:39:52 INFO mlflow.models.model: Found the following environment variables used during model inference: [DATABRICKS_HOST, DATABRICKS_TOKEN]. Please check if you need to set them when deploying the model. To disable this message, set environment variable `MLFLOW_RECORD_ENV_VARS_IN_MODEL_LOGGING` to `false`.\n",
      "[I 2025-10-23 21:39:54,722] Trial 2 finished with value: 9.061060441322526 and parameters: {'n_estimators': 84, 'max_depth': 24, 'min_samples_split': 21, 'min_samples_leaf': 21, 'min_weight_fraction_leaf': 0.0914909229749673, 'max_features': 54, 'ccp_alpha': 0.049787068367863944}. Best is trial 2 with value: 9.061060441322526.\n"
     ]
    },
    {
     "name": "stdout",
     "output_type": "stream",
     "text": [
      "🏃 View run calm-boar-632 at: https://dbc-ce601eea-1bde.cloud.databricks.com/ml/experiments/2243674360324792/runs/9b5f008fab4b453fab8d6ea84b955d42\n",
      "🧪 View experiment at: https://dbc-ce601eea-1bde.cloud.databricks.com/ml/experiments/2243674360324792\n"
     ]
    },
    {
     "name": "stderr",
     "output_type": "stream",
     "text": [
      "2025/10/23 21:40:08 WARNING mlflow.utils.environment: Failed to resolve installed pip version. ``pip`` will be added to conda.yaml environment spec without a version specifier.\n"
     ]
    },
    {
     "data": {
      "application/vnd.jupyter.widget-view+json": {
       "model_id": "05d560a2aeed4fec88d572ee3a87d21b",
       "version_major": 2,
       "version_minor": 0
      },
      "text/plain": [
       "Downloading artifacts:   0%|          | 0/7 [00:00<?, ?it/s]"
      ]
     },
     "metadata": {},
     "output_type": "display_data"
    },
    {
     "name": "stderr",
     "output_type": "stream",
     "text": [
      "2025/10/23 21:40:08 INFO mlflow.models.model: Found the following environment variables used during model inference: [DATABRICKS_HOST, DATABRICKS_TOKEN]. Please check if you need to set them when deploying the model. To disable this message, set environment variable `MLFLOW_RECORD_ENV_VARS_IN_MODEL_LOGGING` to `false`.\n"
     ]
    },
    {
     "name": "stdout",
     "output_type": "stream",
     "text": [
      "🏃 View run rare-toad-651 at: https://dbc-ce601eea-1bde.cloud.databricks.com/ml/experiments/2243674360324792/runs/30706746ee9f469f9addf2ea539bd0a4\n",
      "🧪 View experiment at: https://dbc-ce601eea-1bde.cloud.databricks.com/ml/experiments/2243674360324792\n"
     ]
    },
    {
     "name": "stderr",
     "output_type": "stream",
     "text": [
      "[I 2025-10-23 21:40:10,981] Trial 3 finished with value: 9.036584349535286 and parameters: {'n_estimators': 45, 'max_depth': 32, 'min_samples_split': 63, 'min_samples_leaf': 17, 'min_weight_fraction_leaf': 0.08930384785648966, 'max_features': 39, 'ccp_alpha': 0.049787068367863944}. Best is trial 3 with value: 9.036584349535286.\n",
      "2025/10/23 21:40:23 WARNING mlflow.utils.environment: Failed to resolve installed pip version. ``pip`` will be added to conda.yaml environment spec without a version specifier.\n"
     ]
    },
    {
     "data": {
      "application/vnd.jupyter.widget-view+json": {
       "model_id": "9cb49ea6eef64c758327d83ddf15cec7",
       "version_major": 2,
       "version_minor": 0
      },
      "text/plain": [
       "Downloading artifacts:   0%|          | 0/7 [00:00<?, ?it/s]"
      ]
     },
     "metadata": {},
     "output_type": "display_data"
    },
    {
     "name": "stderr",
     "output_type": "stream",
     "text": [
      "2025/10/23 21:40:24 INFO mlflow.models.model: Found the following environment variables used during model inference: [DATABRICKS_HOST, DATABRICKS_TOKEN]. Please check if you need to set them when deploying the model. To disable this message, set environment variable `MLFLOW_RECORD_ENV_VARS_IN_MODEL_LOGGING` to `false`.\n",
      "[I 2025-10-23 21:40:26,649] Trial 4 finished with value: 9.106437923621863 and parameters: {'n_estimators': 48, 'max_depth': 80, 'min_samples_split': 23, 'min_samples_leaf': 53, 'min_weight_fraction_leaf': 0.162810087911367, 'max_features': 8, 'ccp_alpha': 0.049787068367863944}. Best is trial 3 with value: 9.036584349535286.\n"
     ]
    },
    {
     "name": "stdout",
     "output_type": "stream",
     "text": [
      "🏃 View run nosy-turtle-243 at: https://dbc-ce601eea-1bde.cloud.databricks.com/ml/experiments/2243674360324792/runs/d641ac2f08d64bfa874cf650b27dc5ef\n",
      "🧪 View experiment at: https://dbc-ce601eea-1bde.cloud.databricks.com/ml/experiments/2243674360324792\n"
     ]
    },
    {
     "name": "stderr",
     "output_type": "stream",
     "text": [
      "2025/10/23 21:40:39 WARNING mlflow.utils.environment: Failed to resolve installed pip version. ``pip`` will be added to conda.yaml environment spec without a version specifier.\n"
     ]
    },
    {
     "data": {
      "application/vnd.jupyter.widget-view+json": {
       "model_id": "412a63ee33874a3499bd7989d9f33439",
       "version_major": 2,
       "version_minor": 0
      },
      "text/plain": [
       "Downloading artifacts:   0%|          | 0/7 [00:00<?, ?it/s]"
      ]
     },
     "metadata": {},
     "output_type": "display_data"
    },
    {
     "name": "stderr",
     "output_type": "stream",
     "text": [
      "2025/10/23 21:40:39 INFO mlflow.models.model: Found the following environment variables used during model inference: [DATABRICKS_HOST, DATABRICKS_TOKEN]. Please check if you need to set them when deploying the model. To disable this message, set environment variable `MLFLOW_RECORD_ENV_VARS_IN_MODEL_LOGGING` to `false`.\n",
      "[I 2025-10-23 21:40:42,141] Trial 5 finished with value: 9.007215682767963 and parameters: {'n_estimators': 62, 'max_depth': 20, 'min_samples_split': 10, 'min_samples_leaf': 96, 'min_weight_fraction_leaf': 0.34344237703028857, 'max_features': 82, 'ccp_alpha': 0.049787068367863944}. Best is trial 5 with value: 9.007215682767963.\n"
     ]
    },
    {
     "name": "stdout",
     "output_type": "stream",
     "text": [
      "🏃 View run bedecked-whale-527 at: https://dbc-ce601eea-1bde.cloud.databricks.com/ml/experiments/2243674360324792/runs/539b06a375d54439aedbacb8c129ad0d\n",
      "🧪 View experiment at: https://dbc-ce601eea-1bde.cloud.databricks.com/ml/experiments/2243674360324792\n"
     ]
    },
    {
     "name": "stderr",
     "output_type": "stream",
     "text": [
      "2025/10/23 21:40:55 WARNING mlflow.utils.environment: Failed to resolve installed pip version. ``pip`` will be added to conda.yaml environment spec without a version specifier.\n"
     ]
    },
    {
     "data": {
      "application/vnd.jupyter.widget-view+json": {
       "model_id": "45979900060c4cabbb1c4dde608b3da9",
       "version_major": 2,
       "version_minor": 0
      },
      "text/plain": [
       "Downloading artifacts:   0%|          | 0/7 [00:00<?, ?it/s]"
      ]
     },
     "metadata": {},
     "output_type": "display_data"
    },
    {
     "name": "stderr",
     "output_type": "stream",
     "text": [
      "2025/10/23 21:40:55 INFO mlflow.models.model: Found the following environment variables used during model inference: [DATABRICKS_HOST, DATABRICKS_TOKEN]. Please check if you need to set them when deploying the model. To disable this message, set environment variable `MLFLOW_RECORD_ENV_VARS_IN_MODEL_LOGGING` to `false`.\n"
     ]
    },
    {
     "name": "stdout",
     "output_type": "stream",
     "text": [
      "🏃 View run welcoming-hog-960 at: https://dbc-ce601eea-1bde.cloud.databricks.com/ml/experiments/2243674360324792/runs/a9ef176abc9e48afb0ef52814b0d8d16\n",
      "🧪 View experiment at: https://dbc-ce601eea-1bde.cloud.databricks.com/ml/experiments/2243674360324792\n"
     ]
    },
    {
     "name": "stderr",
     "output_type": "stream",
     "text": [
      "[I 2025-10-23 21:40:57,773] Trial 6 finished with value: 9.011387495626108 and parameters: {'n_estimators': 33, 'max_depth': 13, 'min_samples_split': 70, 'min_samples_leaf': 46, 'min_weight_fraction_leaf': 0.06355030192906976, 'max_features': 52, 'ccp_alpha': 0.049787068367863944}. Best is trial 5 with value: 9.007215682767963.\n",
      "2025/10/23 21:41:11 WARNING mlflow.utils.environment: Failed to resolve installed pip version. ``pip`` will be added to conda.yaml environment spec without a version specifier.\n"
     ]
    },
    {
     "data": {
      "application/vnd.jupyter.widget-view+json": {
       "model_id": "b3eaf07925d1418982f724460c6a9633",
       "version_major": 2,
       "version_minor": 0
      },
      "text/plain": [
       "Downloading artifacts:   0%|          | 0/7 [00:00<?, ?it/s]"
      ]
     },
     "metadata": {},
     "output_type": "display_data"
    },
    {
     "name": "stderr",
     "output_type": "stream",
     "text": [
      "2025/10/23 21:41:11 INFO mlflow.models.model: Found the following environment variables used during model inference: [DATABRICKS_HOST, DATABRICKS_TOKEN]. Please check if you need to set them when deploying the model. To disable this message, set environment variable `MLFLOW_RECORD_ENV_VARS_IN_MODEL_LOGGING` to `false`.\n",
      "[I 2025-10-23 21:41:13,809] Trial 7 finished with value: 9.10653430223404 and parameters: {'n_estimators': 7, 'max_depth': 92, 'min_samples_split': 29, 'min_samples_leaf': 68, 'min_weight_fraction_leaf': 0.09286784222526208, 'max_features': 54, 'ccp_alpha': 0.049787068367863944}. Best is trial 5 with value: 9.007215682767963.\n"
     ]
    },
    {
     "name": "stdout",
     "output_type": "stream",
     "text": [
      "🏃 View run bittersweet-tern-842 at: https://dbc-ce601eea-1bde.cloud.databricks.com/ml/experiments/2243674360324792/runs/bd1b9e45b8d3474686682d8f2e35a7fd\n",
      "🧪 View experiment at: https://dbc-ce601eea-1bde.cloud.databricks.com/ml/experiments/2243674360324792\n"
     ]
    },
    {
     "name": "stderr",
     "output_type": "stream",
     "text": [
      "2025/10/23 21:41:26 WARNING mlflow.utils.environment: Failed to resolve installed pip version. ``pip`` will be added to conda.yaml environment spec without a version specifier.\n"
     ]
    },
    {
     "data": {
      "application/vnd.jupyter.widget-view+json": {
       "model_id": "d01faf1c37ca4a9e8f405081bd3294d0",
       "version_major": 2,
       "version_minor": 0
      },
      "text/plain": [
       "Downloading artifacts:   0%|          | 0/7 [00:00<?, ?it/s]"
      ]
     },
     "metadata": {},
     "output_type": "display_data"
    },
    {
     "name": "stderr",
     "output_type": "stream",
     "text": [
      "2025/10/23 21:41:26 INFO mlflow.models.model: Found the following environment variables used during model inference: [DATABRICKS_HOST, DATABRICKS_TOKEN]. Please check if you need to set them when deploying the model. To disable this message, set environment variable `MLFLOW_RECORD_ENV_VARS_IN_MODEL_LOGGING` to `false`.\n",
      "[I 2025-10-23 21:41:28,702] Trial 8 finished with value: 8.998080851599308 and parameters: {'n_estimators': 57, 'max_depth': 21, 'min_samples_split': 98, 'min_samples_leaf': 79, 'min_weight_fraction_leaf': 0.3259529879125869, 'max_features': 90, 'ccp_alpha': 0.049787068367863944}. Best is trial 8 with value: 8.998080851599308.\n"
     ]
    },
    {
     "name": "stdout",
     "output_type": "stream",
     "text": [
      "🏃 View run omniscient-swan-400 at: https://dbc-ce601eea-1bde.cloud.databricks.com/ml/experiments/2243674360324792/runs/b5d9d4c0ec794dea8fb6136f70fc8f9f\n",
      "🧪 View experiment at: https://dbc-ce601eea-1bde.cloud.databricks.com/ml/experiments/2243674360324792\n"
     ]
    },
    {
     "name": "stderr",
     "output_type": "stream",
     "text": [
      "2025/10/23 21:41:41 WARNING mlflow.utils.environment: Failed to resolve installed pip version. ``pip`` will be added to conda.yaml environment spec without a version specifier.\n"
     ]
    },
    {
     "data": {
      "application/vnd.jupyter.widget-view+json": {
       "model_id": "b4d8d465af4941e3a714b71f3a8fa83f",
       "version_major": 2,
       "version_minor": 0
      },
      "text/plain": [
       "Downloading artifacts:   0%|          | 0/7 [00:00<?, ?it/s]"
      ]
     },
     "metadata": {},
     "output_type": "display_data"
    },
    {
     "name": "stderr",
     "output_type": "stream",
     "text": [
      "2025/10/23 21:41:42 INFO mlflow.models.model: Found the following environment variables used during model inference: [DATABRICKS_HOST, DATABRICKS_TOKEN]. Please check if you need to set them when deploying the model. To disable this message, set environment variable `MLFLOW_RECORD_ENV_VARS_IN_MODEL_LOGGING` to `false`.\n"
     ]
    },
    {
     "name": "stdout",
     "output_type": "stream",
     "text": [
      "🏃 View run able-quail-95 at: https://dbc-ce601eea-1bde.cloud.databricks.com/ml/experiments/2243674360324792/runs/1e0df3229eac4d789fb4b6eea9654c5d\n",
      "🧪 View experiment at: https://dbc-ce601eea-1bde.cloud.databricks.com/ml/experiments/2243674360324792\n"
     ]
    },
    {
     "name": "stderr",
     "output_type": "stream",
     "text": [
      "[I 2025-10-23 21:41:44,574] Trial 9 finished with value: 9.106439957644191 and parameters: {'n_estimators': 61, 'max_depth': 93, 'min_samples_split': 12, 'min_samples_leaf': 23, 'min_weight_fraction_leaf': 0.05450049895708781, 'max_features': 35, 'ccp_alpha': 0.049787068367863944}. Best is trial 8 with value: 8.998080851599308.\n",
      "2025/10/23 21:41:57 WARNING mlflow.utils.environment: Failed to resolve installed pip version. ``pip`` will be added to conda.yaml environment spec without a version specifier.\n"
     ]
    },
    {
     "data": {
      "application/vnd.jupyter.widget-view+json": {
       "model_id": "0c09fd03b0ca48daae55f37c482f7720",
       "version_major": 2,
       "version_minor": 0
      },
      "text/plain": [
       "Downloading artifacts:   0%|          | 0/7 [00:00<?, ?it/s]"
      ]
     },
     "metadata": {},
     "output_type": "display_data"
    },
    {
     "name": "stderr",
     "output_type": "stream",
     "text": [
      "c:\\Users\\Vivienne\\apps\\data_science_project\\nyc-taxi-predictions-2025\\.venv\\Lib\\site-packages\\sklearn\\utils\\validation.py:2742: UserWarning: X has feature names, but RandomForestRegressor was fitted without feature names\n",
      "  warnings.warn(\n",
      "2025/10/23 21:42:00 INFO mlflow.models.model: Found the following environment variables used during model inference: [DATABRICKS_HOST, DATABRICKS_TOKEN]. Please check if you need to set them when deploying the model. To disable this message, set environment variable `MLFLOW_RECORD_ENV_VARS_IN_MODEL_LOGGING` to `false`.\n"
     ]
    },
    {
     "name": "stdout",
     "output_type": "stream",
     "text": [
      "🏃 View run RandomForest Hyperparameter Optimization (Optuna) at: https://dbc-ce601eea-1bde.cloud.databricks.com/ml/experiments/2243674360324792/runs/260a6b2f1c1240e6a7c894f42ee00f07\n",
      "🧪 View experiment at: https://dbc-ce601eea-1bde.cloud.databricks.com/ml/experiments/2243674360324792\n"
     ]
    }
   ],
   "source": [
    "mlflow.sklearn.autolog(log_models=False)\n",
    "\n",
    "# ------------------------------------------------------------\n",
    "# Crear el estudio de Optuna\n",
    "#    - Usamos TPE (Tree-structured Parzen Estimator) como sampler.\n",
    "#    - direction=\"minimize\" porque queremos minimizar el RMSE.\n",
    "# ------------------------------------------------------------\n",
    "sampler = TPESampler(seed=42)\n",
    "study = optuna.create_study(direction=\"minimize\", sampler=sampler)\n",
    "\n",
    "# ------------------------------------------------------------\n",
    "# Ejecutar la optimización (n_trials = número de intentos)\n",
    "#    - Cada trial ejecuta la función objetivo con un set distinto de hiperparámetros.\n",
    "#    - Abrimos un run \"padre\" para agrupar toda la búsqueda.\n",
    "# ------------------------------------------------------------\n",
    "with mlflow.start_run(run_name=\"RandomForest Hyperparameter Optimization (Optuna)\", nested=True):\n",
    "    study.optimize(objective, n_trials=10)\n",
    "\n",
    "    # --------------------------------------------------------\n",
    "    # Recuperar y registrar los mejores hiperparámetros\n",
    "    # --------------------------------------------------------\n",
    "    best_params = study.best_params\n",
    "    # Asegurar tipos/campos fijos (por claridad y consistencia)\n",
    "    best_params[\"max_depth\"] = int(best_params[\"max_depth\"])\n",
    "    best_params[\"seed\"] = 42\n",
    "    best_params[\"objective\"] = \"reg:squarederror\"\n",
    "\n",
    "    mlflow.log_params(best_params)\n",
    "\n",
    "    # Etiquetas del run \"padre\" (metadatos del experimento)\n",
    "    mlflow.set_tags({\n",
    "        \"project\": \"NYC Taxi Time Prediction Project\",\n",
    "        \"optimizer_engine\": \"optuna\",\n",
    "        \"model_family\": \"randomforest\",\n",
    "        \"feature_set_version\": 1,\n",
    "    })\n",
    "\n",
    "    # --------------------------------------------------------\n",
    "    # 7) Entrenar un modelo FINAL con los mejores hiperparámetros\n",
    "    #    (normalmente se haría sobre train+val o con CV; aquí mantenemos el patrón original)\n",
    "    # --------------------------------------------------------\n",
    "\n",
    "    # Select parameters\n",
    "    rf = RandomForestRegressor(\n",
    "        n_estimators=best_params[\"n_estimators\"],\n",
    "        max_depth=best_params[\"max_depth\"],\n",
    "        min_samples_split=best_params[\"min_samples_split\"],\n",
    "        min_samples_leaf=best_params[\"min_samples_leaf\"],\n",
    "        min_weight_fraction_leaf=best_params[\"min_weight_fraction_leaf\"],\n",
    "        max_features=best_params[\"max_features\"],\n",
    "        ccp_alpha=best_params[\"ccp_alpha\"],\n",
    "        random_state=42\n",
    "    )\n",
    "    # Fit the model\n",
    "    rf.fit(X_train, y_train)\n",
    "\n",
    "    # Evaluar y registrar la métrica final en validación\n",
    "    y_pred = rf.predict(X_val)\n",
    "    rmse = root_mean_squared_error(y_val, y_pred)\n",
    "    mlflow.log_metric(\"rmse\", rmse)\n",
    "\n",
    "    # --------------------------------------------------------\n",
    "    # 8) Guardar artefactos adicionales (p. ej. el preprocesador)\n",
    "    # --------------------------------------------------------\n",
    "    pathlib.Path(\"preprocessor\").mkdir(exist_ok=True)\n",
    "    with open(\"preprocessor/preprocessor.b\", \"wb\") as f_out:\n",
    "        pickle.dump(dv, f_out)\n",
    "\n",
    "    mlflow.log_artifact(\"preprocessor/preprocessor.b\", artifact_path=\"preprocessor\")\n",
    "\n",
    "    # La \"signature\" describe la estructura esperada de entrada y salida del modelo:\n",
    "    # incluye los nombres, tipos y forma (shape) de las variables de entrada y el tipo de salida.\n",
    "    # MLflow la usa para validar datos en inferencia y documentar el modelo en el Model Registry.\n",
    "    # Si X_val es la matriz dispersa (scipy.sparse) salida de DictVectorizer:\n",
    "    feature_names = dv.get_feature_names_out()\n",
    "    input_example = pd.DataFrame(X_val[:5].toarray(), columns=feature_names)\n",
    "\n",
    "    # Para que las longitudes coincidan, usa el mismo slice en y_pred\n",
    "    signature = infer_signature(input_example, y_val[:5])\n",
    "\n",
    "    # Guardar el modelo del trial como artefacto en MLflow.\n",
    "    mlflow.sklearn.log_model(\n",
    "    sk_model=rf,                    # Trained RandomForestRegressor\n",
    "    name=\"model\",                   # Folder inside MLflow run to store the model\n",
    "    input_example= input_example,   # First few rows of validation data\n",
    "    signature=signature,            \n",
    ")"
   ]
  }
 ],
 "metadata": {
  "kernelspec": {
   "display_name": "nyc-taxi-predictions-2025",
   "language": "python",
   "name": "python3"
  },
  "language_info": {
   "codemirror_mode": {
    "name": "ipython",
    "version": 3
   },
   "file_extension": ".py",
   "mimetype": "text/x-python",
   "name": "python",
   "nbconvert_exporter": "python",
   "pygments_lexer": "ipython3",
   "version": "3.12.11"
  }
 },
 "nbformat": 4,
 "nbformat_minor": 5
}
